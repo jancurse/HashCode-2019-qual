{
 "cells": [
  {
   "cell_type": "code",
   "execution_count": 2,
   "metadata": {},
   "outputs": [],
   "source": [
    "import numpy as np"
   ]
  },
  {
   "cell_type": "code",
   "execution_count": 15,
   "metadata": {},
   "outputs": [],
   "source": [
    "def readfile(path):\n",
    "    num_hor = 0\n",
    "    counter = 0\n",
    "    L = []\n",
    "    L_reverse = []\n",
    "    dic = {}\n",
    "    f = open(path, \"r\")\n",
    "    string = f.read().splitlines()\n",
    "    f.close()\n",
    "    num_pics = int(string[0])\n",
    "    for i in range(num_pics):\n",
    "        s = string[i+1].split(' ')\n",
    "        l = [i,s[0],int(s[1])]\n",
    "        if s[0] == 'H': num_hor+=1\n",
    "        for tag in s[2:]:\n",
    "            if tag in dic:\n",
    "                tag_idx = dic[tag]\n",
    "                l.append(tag_idx)\n",
    "                L_reverse[tag_idx].append(i)\n",
    "            else:\n",
    "                l.append(counter)\n",
    "                dic[tag] = counter\n",
    "                L_reverse.append([i])\n",
    "                counter+=1\n",
    "        L.append(l)\n",
    "\n",
    "    num_tags = counter\n",
    "\n",
    "    return L, L_reverse, num_pics, num_tags, num_hor"
   ]
  },
  {
   "cell_type": "code",
   "execution_count": 16,
   "metadata": {},
   "outputs": [],
   "source": [
    "def get_score(tags1, tags2):\n",
    "    dic = {}\n",
    "    for tags in [tags1,tags2]:\n",
    "        for tag in tags:\n",
    "            if tag in dic: dic[tag]+=1\n",
    "            else: dic[tag] = 1\n",
    "\n",
    "    num_dup = 0\n",
    "    for key in dic:\n",
    "        if dic[key] == 2: num_dup += 1\n",
    "    num_1 = len(tags1) - num_dup\n",
    "    num_2 = len(tags2) - num_dup\n",
    "\n",
    "    return min(num_dup, num_1, num_2)\n",
    "\n",
    "def total_score(L,s):\n",
    "    s = s.split('\\n')\n",
    "    tags_list = [l[3:] for l in L]\n",
    "    tags0, tags1 = [],[]\n",
    "    score = 0\n",
    "    for i in range(1,int(s[0])):\n",
    "        tags0 = set(tags1)\n",
    "        imgs = s[i].split(' ')\n",
    "        if len(imgs) == 1: tags1 = set(tags_list[int(imgs[0])])\n",
    "        else: tags1 = set(tags_list[int(imgs[0])]) | set(tags_list[int(imgs[1])])\n",
    "        score += get_score(tags0, tags1)\n",
    "    return score"
   ]
  },
  {
   "cell_type": "code",
   "execution_count": 26,
   "metadata": {},
   "outputs": [],
   "source": [
    "path_a = \"./qualification_round_2019.in/a_example.txt\"\n",
    "path_b = \"./qualification_round_2019.in/b_lovely_landscapes.txt\"\n",
    "path_c = \"./qualification_round_2019.in/c_memorable_moments.txt\"\n",
    "path_d = \"./qualification_round_2019.in/d_pet_pictures.txt\"\n",
    "path_e = \"./qualification_round_2019.in/e_shiny_selfies.txt\"\n",
    "\n",
    "submit_path_b = './submissions/slideshow-b.txt'\n",
    "submit_path_c = './submissions/slideshow-c.txt'\n",
    "submit_path_d = './submissions/slideshow-d.txt'\n",
    "submit_path_e = './submissions/slideshow-e.txt'"
   ]
  },
  {
   "cell_type": "code",
   "execution_count": 29,
   "metadata": {},
   "outputs": [],
   "source": [
    "L_b, _, _, _, _ = readfile(path_b)\n",
    "L_c, _, _, _, _ = readfile(path_c)\n",
    "L_d, _, _, _, _ = readfile(path_d)\n",
    "L_e, _, _, _, _ = readfile(path_e)\n",
    "\n",
    "\n",
    "f = open(submit_path_b, \"r\")\n",
    "s_b = f.read()\n",
    "f.close()\n",
    "\n",
    "f = open(submit_path_c, \"r\")\n",
    "s_c = f.read()\n",
    "f.close()\n",
    "\n",
    "f = open(submit_path_d, \"r\")\n",
    "s_d = f.read()\n",
    "f.close()\n",
    "\n",
    "f = open(submit_path_e, \"r\")\n",
    "s_e = f.read()\n",
    "f.close()"
   ]
  },
  {
   "cell_type": "code",
   "execution_count": 30,
   "metadata": {},
   "outputs": [
    {
     "name": "stdout",
     "output_type": "stream",
     "text": [
      "b) Score: 213636\n",
      "c) Score: 1502\n",
      "d) Score: 422607\n",
      "e) Score: 375351\n",
      "Total Score:  1013096\n"
     ]
    }
   ],
   "source": [
    "score = 0\n",
    "for (L,s,letter) in [(L_b, s_b,'b'), (L_c, s_c,'c'), (L_d, s_d,'d'), (L_e, s_e,'e')]:\n",
    "    new_score = total_score(L,s)\n",
    "    print(letter + \") Score:\", new_score)\n",
    "    score += new_score\n",
    "print(\"Total Score: \", score)"
   ]
  },
  {
   "cell_type": "code",
   "execution_count": null,
   "metadata": {},
   "outputs": [],
   "source": []
  }
 ],
 "metadata": {
  "kernelspec": {
   "display_name": "Python 3",
   "language": "python",
   "name": "python3"
  },
  "language_info": {
   "codemirror_mode": {
    "name": "ipython",
    "version": 3
   },
   "file_extension": ".py",
   "mimetype": "text/x-python",
   "name": "python",
   "nbconvert_exporter": "python",
   "pygments_lexer": "ipython3",
   "version": "3.7.4"
  }
 },
 "nbformat": 4,
 "nbformat_minor": 4
}
