{
 "cells": [
  {
   "cell_type": "code",
   "execution_count": 1,
   "metadata": {},
   "outputs": [],
   "source": [
    "import numpy as np\n",
    "from time import time\n",
    "from tqdm import tqdm"
   ]
  },
  {
   "cell_type": "markdown",
   "metadata": {},
   "source": [
    "## Basic functions"
   ]
  },
  {
   "cell_type": "code",
   "execution_count": 2,
   "metadata": {},
   "outputs": [],
   "source": [
    "def readfile(path):\n",
    "    num_hor = 0\n",
    "    counter = 0\n",
    "    L = []\n",
    "    L_reverse = []\n",
    "    dic = {}\n",
    "    f = open(path, \"r\")\n",
    "    string = f.read().splitlines()\n",
    "    f.close()\n",
    "    num_pics = int(string[0])\n",
    "    for i in range(num_pics):\n",
    "        s = string[i+1].split(' ')\n",
    "        l = [i,s[0],int(s[1])]\n",
    "        if s[0] == 'H': num_hor+=1\n",
    "        for tag in s[2:]:\n",
    "            if tag in dic:\n",
    "                tag_idx = dic[tag]\n",
    "                l.append(tag_idx)\n",
    "                L_reverse[tag_idx].append(i)\n",
    "            else:\n",
    "                l.append(counter)\n",
    "                dic[tag] = counter\n",
    "                L_reverse.append([i])\n",
    "                counter+=1\n",
    "        L.append(l)\n",
    "\n",
    "    num_tags = counter\n",
    "\n",
    "    return L, L_reverse, num_pics, num_tags, num_hor"
   ]
  },
  {
   "cell_type": "code",
   "execution_count": 3,
   "metadata": {},
   "outputs": [],
   "source": [
    "def get_score(tags1, tags2):\n",
    "    dic = {}\n",
    "    for tags in [tags1,tags2]:\n",
    "        for tag in tags:\n",
    "            if tag in dic: dic[tag]+=1\n",
    "            else: dic[tag] = 1\n",
    "\n",
    "    num_dup = 0\n",
    "    for key in dic:\n",
    "        if dic[key] == 2: num_dup += 1\n",
    "    num_1 = len(tags1) - num_dup\n",
    "    num_2 = len(tags2) - num_dup\n",
    "\n",
    "    return min(num_dup, num_1, num_2)"
   ]
  },
  {
   "cell_type": "code",
   "execution_count": 4,
   "metadata": {},
   "outputs": [],
   "source": [
    "def get_intersec(tags1, tags2):\n",
    "    dic = {}\n",
    "    for tags in [tags1,tags2]:\n",
    "        for tag in tags:\n",
    "            if tag in dic: dic[tag]+=1\n",
    "            else: dic[tag] = 1\n",
    "\n",
    "    num_dup = 0\n",
    "    for key in dic:\n",
    "        if dic[key] == 2: num_dup += 1\n",
    "\n",
    "    return num_dup"
   ]
  },
  {
   "cell_type": "markdown",
   "metadata": {},
   "source": [
    "## Algorithms"
   ]
  },
  {
   "cell_type": "code",
   "execution_count": 5,
   "metadata": {},
   "outputs": [],
   "source": [
    "def greedy_path_forest_simple(E, n, is_sorted=False):\n",
    "    \"\"\"\n",
    "    V = [n]\n",
    "    E is of the form [(u,v,w), ...], possible duplicates\n",
    "    \"\"\"\n",
    "    \n",
    "    score = 0\n",
    "    degrees = [0]*n\n",
    "\n",
    "    if not is_sorted: E.sort(key=lambda tup: tup[2], reverse=True)\n",
    "    path_forest = []\n",
    "    cycle_closing = [i for i in range(n)]\n",
    "    min = 0\n",
    "    max = len(E)\n",
    "\n",
    "    for i in range(n-1):\n",
    "        while True:\n",
    "            if min>=max: break\n",
    "            (u,v,w) = E[min]\n",
    "            if (degrees[u] >= 2 or degrees[v] >=2 or cycle_closing[u] == v): min+=1\n",
    "            else: break\n",
    "\n",
    "        if min >= max: break\n",
    "        score += w\n",
    "        path_forest.append([u,v])\n",
    "        cycle_closing[cycle_closing[u]], cycle_closing[cycle_closing[v]] = cycle_closing[v], cycle_closing[u]\n",
    "        degrees[u]+=1\n",
    "        degrees[v]+=1\n",
    "        min+=1\n",
    "    \n",
    "    return path_forest, score\n",
    "\n",
    "def greedy_path_forest(E, V, is_sorted=False):\n",
    "    \"\"\" E is of the form [ (u,v,w), ...]\"\"\"\n",
    "    n = len(V)\n",
    "    V_reverse = {}\n",
    "    for (i,v) in enumerate(V): V_reverse[v] = i\n",
    "    E_simple = [(V_reverse[u], V_reverse[v], w) for (u,v,w) in E]\n",
    "        \n",
    "    path_forest_simple, score = greedy_path_forest_simple(E_simple, n, is_sorted)\n",
    "    path_forest = []\n",
    "    for [u1,u2] in path_forest_simple:\n",
    "        v1, v2 = V[u1], V[u2]\n",
    "        path_forest.append([v1,v2])\n",
    "    return path_forest, score"
   ]
  },
  {
   "cell_type": "code",
   "execution_count": 6,
   "metadata": {},
   "outputs": [],
   "source": [
    "def build_path_sequence_simple(path_forest, n):\n",
    "    \n",
    "    P = [[] for i in range(n)]\n",
    "    for [u,v] in path_forest:\n",
    "        P[u].append(v)\n",
    "        P[v].append(u)\n",
    "\n",
    "    deg = np.zeros(n)\n",
    "    for u in range(n):\n",
    "        deg[u] = len(P[u])\n",
    "\n",
    "    degree_ones = []\n",
    "    degree_zeros = []\n",
    "    for u in range(n):\n",
    "        if deg[u] == 1: degree_ones.append(u)\n",
    "        if deg[u] == 0: degree_zeros.append(u)\n",
    "\n",
    "    degree_ones_visited = {}\n",
    "    for v in degree_ones:\n",
    "        degree_ones_visited[v] = 0\n",
    "\n",
    "    P_sequence = list(degree_zeros)\n",
    "        \n",
    "    for start in degree_ones:\n",
    "        if degree_ones_visited[start] == 1: continue\n",
    "        degree_ones_visited[start] = 1\n",
    "        sec_last = start\n",
    "        last = P[sec_last][0]\n",
    "        P_sequence += [sec_last, last]\n",
    "\n",
    "        while deg[last] > 1:\n",
    "            [next1, next2] = P[last]\n",
    "            if next1 == sec_last:\n",
    "                P_sequence.append(next2)\n",
    "                sec_last = last\n",
    "                last = next2\n",
    "            else:\n",
    "                P_sequence.append(next1)\n",
    "                sec_last = last\n",
    "                last = next1\n",
    "\n",
    "        degree_ones_visited[last] = 1\n",
    "\n",
    "    return P_sequence\n",
    "\n",
    "def build_path_sequence(path_forest, V):\n",
    "    n = len(V)\n",
    "    V_reverse = {}\n",
    "    for (i,v) in enumerate(V): V_reverse[v] = i\n",
    "    path_forest_simple = []\n",
    "    for [u1,u2] in path_forest:\n",
    "        v1, v2 = V_reverse[u1], V_reverse[u2]\n",
    "        path_forest_simple.append([v1,v2])\n",
    "\n",
    "    P_simple = build_path_sequence_simple(path_forest_simple, n)\n",
    "    P = [V[u] for u in P_simple]\n",
    "    return P"
   ]
  },
  {
   "cell_type": "code",
   "execution_count": null,
   "metadata": {},
   "outputs": [],
   "source": []
  },
  {
   "cell_type": "markdown",
   "metadata": {},
   "source": [
    "## Build Graphs"
   ]
  },
  {
   "cell_type": "code",
   "execution_count": 7,
   "metadata": {},
   "outputs": [],
   "source": [
    "def build_graph_b(L, L_rev, num_pics):\n",
    "    E = [set([]) for i in range(100)] #E[i] contains all edges of weight i\n",
    "    \n",
    "    for u in range(num_pics):\n",
    "        tags1 = L[u][3:]\n",
    "        possible_neighbours = set([])\n",
    "        for tag in tags1:\n",
    "            possible_neighbours.update(L_rev[tag])\n",
    "        possible_neighbours = [x for x in possible_neighbours if x > u]\n",
    "\n",
    "        for v in possible_neighbours:\n",
    "            tags2 = L[v][3:]\n",
    "            w = get_score(tags1,tags2)\n",
    "            if w > 0: E[w].add((u,v,w))\n",
    "\n",
    "    E = [e for F in reversed(E) for e in F]    \n",
    "    return E"
   ]
  },
  {
   "cell_type": "code",
   "execution_count": 8,
   "metadata": {},
   "outputs": [],
   "source": [
    "def build_graph_rand(n, L, deg, min_deg=1, N_pair=25):\n",
    "    tags_list =[l[3:] for l in L]\n",
    "    V_hor = []\n",
    "    imgs_vert = []\n",
    "    for i in range(n):\n",
    "        l = L[i]\n",
    "        if l[1] == 'H':\n",
    "            V_hor.append(l[0])\n",
    "        else:\n",
    "            imgs_vert.append(l[0])\n",
    "\n",
    "    def get_score_vx(x, y):\n",
    "        if type(x) == int: tags1 = tags_list[x]\n",
    "        else: tags1 = set(tags_list[x[0]]) | set(tags_list[x[1]])\n",
    "\n",
    "        if type(y) == int: tags2 = tags_list[y]\n",
    "        else: tags2 = set(tags_list[y[0]]) | set(tags_list[y[1]])\n",
    "\n",
    "        return get_score(tags1, tags2)\n",
    "\n",
    "    # build V_vert\n",
    "    V_vert = []\n",
    "    remaining_imgs = imgs_vert\n",
    "    num_rem = len(remaining_imgs)\n",
    "    added = np.zeros(n)\n",
    "    update_threshold = num_rem / 2\n",
    "\n",
    "    rand_size = 10**6\n",
    "    random_imgs = np.random.choice(remaining_imgs, size=rand_size)\n",
    "    rand_count = 0\n",
    "    n_h = len(V_hor)\n",
    "    for img1 in imgs_vert:\n",
    "        if added[img1]: continue\n",
    "        added[img1]=1\n",
    "        candidates = []\n",
    "        tries = 0\n",
    "        while tries <= N_pair:\n",
    "            if rand_count >= rand_size:\n",
    "                rand_count = 0\n",
    "                random_imgs = np.random.choice(remaining_imgs, size=rand_size)\n",
    "            img2 = random_imgs[rand_count]\n",
    "            rand_count += 1\n",
    "            if added[img2] == 1: continue\n",
    "            candidates.append((img2, get_intersec(tags_list[img1], tags_list[img2])))\n",
    "            tries += 1\n",
    "\n",
    "        (img2, w) = min(candidates, key= lambda tup: tup[1])\n",
    "        added[img2] = 1\n",
    "        if img1 > img2: [img1, img2] = [img2, img11]\n",
    "        V_vert.append((img1, img2))\n",
    "        num_rem = num_rem - 2\n",
    "\n",
    "        if num_rem <= update_threshold:\n",
    "            remaining_imgs = [j for j in remaining_imgs if added[j] == 0]\n",
    "            update_threshold = num_rem / 2\n",
    "\n",
    "        if num_rem == 0: break\n",
    "\n",
    "    V = V_hor + V_vert\n",
    "    E = [set([]) for i in range(100)] #E[i] contains all edges of weight i\n",
    "\n",
    "    ## add random edges to E\n",
    "    def leq(x, y):\n",
    "        if type(x) == type(y): return x <= y\n",
    "        else: return type(x) == int\n",
    "\n",
    "\n",
    "    matching = [0] * n\n",
    "    for (u1, u2) in V_vert:\n",
    "        matching[u1] = u2\n",
    "        matching[u2] = u1\n",
    "\n",
    "    num_vxs = len(V)\n",
    "    rand_count = 0\n",
    "    random_idxs = np.random.randint(low=0, high=num_vxs, size=rand_size)\n",
    "    \n",
    "    for v1 in V:\n",
    "        if rand_count + deg >= rand_size:\n",
    "            rand_count = 0\n",
    "            random_idxs = np.random.randint(low=0, high=num_vxs, size=rand_size)\n",
    "        for idx in random_idxs[rand_count:rand_count + deg]:\n",
    "            rand_count += 1\n",
    "            v2 = V[idx]\n",
    "            if v1 == v2: continue\n",
    "            w = get_score_vx(v1,v2)\n",
    "            if w >= min_deg:\n",
    "                if leq(v1,v2): E[w].add((v1, v2, w))\n",
    "                else: E[w].add((v2, v1, w))\n",
    "                    \n",
    "    E = [e for F in reversed(E) for e in F]   \n",
    "    return V, E"
   ]
  },
  {
   "cell_type": "markdown",
   "metadata": {},
   "source": [
    "## Submissions"
   ]
  },
  {
   "cell_type": "code",
   "execution_count": 9,
   "metadata": {},
   "outputs": [],
   "source": [
    "path_a = \"./qualification_round_2019.in/a_example.txt\"\n",
    "path_b = \"./qualification_round_2019.in/b_lovely_landscapes.txt\"\n",
    "path_c = \"./qualification_round_2019.in/c_memorable_moments.txt\"\n",
    "path_d = \"./qualification_round_2019.in/d_pet_pictures.txt\"\n",
    "path_e = \"./qualification_round_2019.in/e_shiny_selfies.txt\""
   ]
  },
  {
   "cell_type": "code",
   "execution_count": 10,
   "metadata": {},
   "outputs": [],
   "source": [
    "def create_submission(P, path):\n",
    "    n = len(P)\n",
    "    s = str(n)\n",
    "    for pic in P:\n",
    "        if type(pic) == int:\n",
    "            s += '\\n'+ str(pic)\n",
    "        else:\n",
    "            s += '\\n' + str(pic[0]) + ' ' + str(pic[1])\n",
    "            \n",
    "    f = open(path,\"w+\")\n",
    "    f.write(s)\n",
    "    f.close()\n",
    "    return s"
   ]
  },
  {
   "cell_type": "code",
   "execution_count": 15,
   "metadata": {},
   "outputs": [
    {
     "name": "stdout",
     "output_type": "stream",
     "text": [
      "Average Degree:  5.0\n",
      "Score:  213639\n"
     ]
    }
   ],
   "source": [
    "submit_path_b = './submissions/slideshow-b-temp.txt'\n",
    "L, L_rev, num_pics, num_tags, num_hor = readfile(path_b)\n",
    "E = build_graph_b(L, L_rev, num_pics)\n",
    "print('Average Degree: ', 2*len(E)/num_pics)\n",
    "\n",
    "path_forest, score = greedy_path_forest_simple(E, num_pics)\n",
    "P = build_path_sequence_simple(path_forest, num_pics)\n",
    "create_submission(P, submit_path_b)\n",
    "print('Score: ', score)"
   ]
  },
  {
   "cell_type": "code",
   "execution_count": 16,
   "metadata": {},
   "outputs": [
    {
     "name": "stdout",
     "output_type": "stream",
     "text": [
      "Average Degree:  116.33866666666667\n",
      "Score:  1503\n"
     ]
    }
   ],
   "source": [
    "submit_path_c = './submissions/slideshow-c-temp.txt'\n",
    "L, L_rev, num_pics, num_tags, num_hor = readfile(path_c)\n",
    "\n",
    "deg = 1000\n",
    "\n",
    "V,E = build_graph_rand(num_pics, L, deg)\n",
    "print('Average Degree: ', 2*len(E)/len(V))\n",
    "\n",
    "path_forest, score = greedy_path_forest(E, V)\n",
    "P = build_path_sequence(path_forest, V)\n",
    "s = create_submission(P, submit_path_c)\n",
    "print('Score: ', score)"
   ]
  },
  {
   "cell_type": "code",
   "execution_count": 13,
   "metadata": {},
   "outputs": [
    {
     "name": "stdout",
     "output_type": "stream",
     "text": [
      "Average Degree:  355.142\n",
      "Score:  383822\n"
     ]
    }
   ],
   "source": [
    "submit_path_d = './submissions/slideshow-d-temp.txt'\n",
    "L, L_rev, num_pics, num_tags, num_hor = readfile(path_d)\n",
    "\n",
    "deg = 200 #Use 2000 and a good computer for better score\n",
    "\n",
    "V,E = build_graph_rand(num_pics, L, deg)\n",
    "print('Average Degree: ', 2*len(E)/len(V))\n",
    "\n",
    "path_forest, score = greedy_path_forest(E, V, is_sorted=True)\n",
    "P = build_path_sequence(path_forest, V)\n",
    "s = create_submission(P, submit_path_d)\n",
    "print('Score: ', score)"
   ]
  },
  {
   "cell_type": "code",
   "execution_count": 14,
   "metadata": {},
   "outputs": [
    {
     "name": "stdout",
     "output_type": "stream",
     "text": [
      "Average Degree:  373.5645\n",
      "Score:  303316\n"
     ]
    }
   ],
   "source": [
    "submit_path_e = './submissions/slideshow-e-temp.txt'\n",
    "L, L_rev, num_pics, num_tags, num_hor = readfile(path_e)\n",
    "\n",
    "deg = 200 #Use 3000 and a good computer for better score\n",
    "\n",
    "V,E = build_graph_rand(num_pics, L, deg)\n",
    "print('Average Degree: ', 2*len(E)/len(V))\n",
    "\n",
    "path_forest, score = greedy_path_forest(E, V, is_sorted=True)\n",
    "P = build_path_sequence(path_forest, V)\n",
    "s = create_submission(P, submit_path_e)\n",
    "print('Score: ', score)"
   ]
  }
 ],
 "metadata": {
  "environment": {
   "name": "common-cpu.m46",
   "type": "gcloud",
   "uri": "gcr.io/deeplearning-platform-release/base-cpu:m46"
  },
  "kernelspec": {
   "display_name": "Python 3",
   "language": "python",
   "name": "python3"
  },
  "language_info": {
   "codemirror_mode": {
    "name": "ipython",
    "version": 3
   },
   "file_extension": ".py",
   "mimetype": "text/x-python",
   "name": "python",
   "nbconvert_exporter": "python",
   "pygments_lexer": "ipython3",
   "version": "3.7.4"
  }
 },
 "nbformat": 4,
 "nbformat_minor": 4
}
