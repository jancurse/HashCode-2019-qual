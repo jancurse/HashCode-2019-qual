{
 "cells": [
  {
   "cell_type": "code",
   "execution_count": 1,
   "metadata": {
    "pycharm": {
     "is_executing": false
    }
   },
   "outputs": [],
   "source": [
    "import numpy as np\n",
    "import pandas as pd"
   ]
  },
  {
   "cell_type": "code",
   "execution_count": 2,
   "metadata": {
    "pycharm": {
     "is_executing": false
    }
   },
   "outputs": [],
   "source": [
    "def readfile(path):\n",
    "    num_hor = 0\n",
    "    counter = 0\n",
    "    L = []\n",
    "    L_reverse = []\n",
    "    dic = {}\n",
    "    f = open(path, \"r\")\n",
    "    string = f.read().splitlines()\n",
    "    f.close()\n",
    "    num_pics = int(string[0])\n",
    "    for i in range(num_pics):\n",
    "        s = string[i+1].split(' ')\n",
    "        l = [i,s[0],int(s[1])]\n",
    "        if s[0] == 'H': num_hor+=1\n",
    "        for tag in s[2:]:\n",
    "            if tag in dic:\n",
    "                tag_idx = dic[tag]\n",
    "                l.append(tag_idx)\n",
    "                L_reverse[tag_idx].append(i)\n",
    "            else:\n",
    "                l.append(counter)\n",
    "                dic[tag] = counter\n",
    "                L_reverse.append([i])\n",
    "                counter+=1\n",
    "        L.append(l)\n",
    "        \n",
    "    num_tags = counter\n",
    "    \n",
    "    return L, L_reverse, num_pics, num_tags, num_hor"
   ]
  },
  {
   "cell_type": "code",
   "execution_count": 3,
   "metadata": {},
   "outputs": [],
   "source": [
    "def get_score(tags1, tags2):\n",
    "    dic = {}\n",
    "    for tags in [tags1,tags2]:\n",
    "        for tag in tags:\n",
    "            if tag in dic: dic[tag]+=1\n",
    "            else: dic[tag] = 1\n",
    "\n",
    "    num_dup = 0\n",
    "    for key in dic.keys():\n",
    "        if dic[key] == 2: num_dup += 1\n",
    "    num_1 = len(tags1) - num_dup\n",
    "    num_2 = len(tags2) - num_dup\n",
    "\n",
    "    return min(num_dup, num_1, num_2)\n",
    "\n",
    "def get_intersec(tags1, tags2):\n",
    "    dic = {}\n",
    "    for tags in [tags1,tags2]:\n",
    "        for tag in tags:\n",
    "            if tag in dic: dic[tag]+=1\n",
    "            else: dic[tag] = 1\n",
    "\n",
    "    num_dup = 0\n",
    "    for key in dic.keys():\n",
    "        if dic[key] == 2: num_dup += 1\n",
    "    num_1 = len(tags1) - num_dup\n",
    "    num_2 = len(tags2) - num_dup\n",
    "\n",
    "    return num_dup"
   ]
  },
  {
   "cell_type": "code",
   "execution_count": 4,
   "metadata": {
    "pycharm": {
     "is_executing": false
    }
   },
   "outputs": [],
   "source": [
    "path_a = \"./qualification_round_2019.in/a_example.txt\"\n",
    "path_b = \"./qualification_round_2019.in/b_lovely_landscapes.txt\"\n",
    "path_c = \"./qualification_round_2019.in/c_memorable_moments.txt\"\n",
    "path_d = \"./qualification_round_2019.in/d_pet_pictures.txt\"\n",
    "path_e = \"./qualification_round_2019.in/e_shiny_selfies.txt\""
   ]
  },
  {
   "cell_type": "code",
   "execution_count": 5,
   "metadata": {
    "pycharm": {
     "is_executing": false
    }
   },
   "outputs": [],
   "source": [
    "def print_info(path):\n",
    "    L, L_reverse, num_pics, num_tags, num_hor = readfile(path)\n",
    "    L_hor = []\n",
    "    L_vert = []\n",
    "    for l in L:\n",
    "        if l[1] == 'H': L_hor.append([l[0]] + l[2:])\n",
    "        else: L_vert.append([l[0]] + l[2:])\n",
    "    num_tags_list = [l[2] for l in L]\n",
    "    num_tags_list.sort()\n",
    "    num_pics_list = [len(l) for l in L_reverse]\n",
    "    num_pics_list.sort()\n",
    "    print(\"Number of Pictures: \", num_pics)\n",
    "    print(\"Number of horizontal Pictures: \", num_hor)\n",
    "    print(\"Number of vertical Pictures: \", num_pics - num_hor)    \n",
    "    print(\"Number of unique tags: \", num_tags)\n",
    "    print(\"Max number of tags per picture: \", num_tags_list[-1])\n",
    "    print(\"Min number of tags per picture: \", num_tags_list[0])\n",
    "    print(\"Average number of tags per picture: \", np.mean(num_tags_list))\n",
    "    print(\"Max number of pictures per tag: \", num_pics_list[-1])\n",
    "    print(\"Min number of pictures per tag: \", num_pics_list[0])\n",
    "    print(\"Average number of pictures per tag: \", np.mean(num_pics_list))\n",
    "    \n",
    "    N = 10**6\n",
    "    \n",
    "    if L_hor:\n",
    "        n = len(L_hor)\n",
    "        samples = []\n",
    "        randints = np.random.randint(low=0, high=n, size=2*N) \n",
    "        for i in range(N):\n",
    "            tags_1 =  L_hor[randints[2*i]][2:]\n",
    "            tags_2 =  L_hor[randints[2*i+1]][2:]\n",
    "            samples.append(get_score(tags_1,tags_2))\n",
    "        print(\"Min score of horizontal pictures: \", np.min(samples))\n",
    "        print(\"Avg score of horizontal pictures: \", np.mean(samples))\n",
    "        print(\"Max score of horizontal pictures: \", np.max(samples))\n",
    "       \n",
    "    if L_vert:\n",
    "        n = len(L_vert)\n",
    "        samples = []\n",
    "        randints = np.random.randint(low=0, high=n, size=2*N) \n",
    "        for i in range(N):\n",
    "            tags_1 =  L_vert[randints[2*i]][2:]\n",
    "            tags_2 =  L_vert[randints[2*i+1]][2:]\n",
    "            samples.append(get_intersec(tags_1,tags_2))\n",
    "        print(\"Min intersection of vertical pictures: \", np.min(samples))\n",
    "        print(\"Avg intersection of vertical pictures: \", np.mean(samples))\n",
    "        print(\"Max intersection of vertical pictures: \", np.max(samples))\n",
    "\n",
    "        samples = []\n",
    "        randints = np.random.randint(low=0, high=n, size=4*N) \n",
    "        for i in range(N):\n",
    "            tags_1 =  list(set(L_vert[randints[4*i]][2:] + L_vert[randints[4*i+1]][2:]))  \n",
    "            tags_2 =  list(set(L_vert[randints[4*i+2]][2:] + L_vert[randints[4*i+3]][2:]))\n",
    "            samples.append(get_score(tags_1,tags_2))\n",
    "        \n",
    "        s_max = np.max(samples)\n",
    "        print(\"Min score of pairs of vertical pictures: \", np.min(samples))\n",
    "        print(\"Avg score of pairs of vertical pictures: \", np.mean(samples))\n",
    "        print(\"Max score of pairs of vertical pictures: \", s_max)\n",
    "        \n",
    "        print(\"fraction of samples >= 1/3 max: \", len([s for s in samples if s >= s_max/3])/N)"
   ]
  },
  {
   "cell_type": "code",
   "execution_count": 6,
   "metadata": {
    "pycharm": {
     "is_executing": false
    }
   },
   "outputs": [
    {
     "name": "stdout",
     "output_type": "stream",
     "text": [
      "Number of Pictures:  80000\n",
      "Number of horizontal Pictures:  80000\n",
      "Number of vertical Pictures:  0\n",
      "Number of unique tags:  840000\n",
      "Max number of tags per picture:  51\n",
      "Min number of tags per picture:  9\n",
      "Average number of tags per picture:  18.0\n",
      "Max number of pictures per tag:  2\n",
      "Min number of pictures per tag:  1\n",
      "Average number of pictures per tag:  1.7142857142857142\n",
      "Min score of horizontal pictures:  0\n",
      "Avg score of horizontal pictures:  0.00018\n",
      "Max score of horizontal pictures:  3\n"
     ]
    }
   ],
   "source": [
    "print_info(path_b)"
   ]
  },
  {
   "cell_type": "code",
   "execution_count": 7,
   "metadata": {
    "pycharm": {
     "is_executing": false
    }
   },
   "outputs": [
    {
     "name": "stdout",
     "output_type": "stream",
     "text": [
      "Number of Pictures:  1000\n",
      "Number of horizontal Pictures:  500\n",
      "Number of vertical Pictures:  500\n",
      "Number of unique tags:  2166\n",
      "Max number of tags per picture:  14\n",
      "Min number of tags per picture:  4\n",
      "Average number of tags per picture:  9.476\n",
      "Max number of pictures per tag:  20\n",
      "Min number of pictures per tag:  1\n",
      "Average number of pictures per tag:  4.37488457987073\n",
      "Min score of horizontal pictures:  0\n",
      "Avg score of horizontal pictures:  0.100586\n",
      "Max score of horizontal pictures:  3\n",
      "Min intersection of vertical pictures:  0\n",
      "Avg intersection of vertical pictures:  0.127273\n",
      "Max intersection of vertical pictures:  14\n",
      "Min score of pairs of vertical pictures:  0\n",
      "Avg score of pairs of vertical pictures:  0.484283\n",
      "Max score of pairs of vertical pictures:  14\n",
      "fraction of samples >= 1/3 max:  0.007967\n"
     ]
    }
   ],
   "source": [
    "print_info(path_c)"
   ]
  },
  {
   "cell_type": "code",
   "execution_count": 8,
   "metadata": {
    "pycharm": {
     "is_executing": false
    }
   },
   "outputs": [
    {
     "name": "stdout",
     "output_type": "stream",
     "text": [
      "Number of Pictures:  90000\n",
      "Number of horizontal Pictures:  30000\n",
      "Number of vertical Pictures:  60000\n",
      "Number of unique tags:  220\n",
      "Max number of tags per picture:  19\n",
      "Min number of tags per picture:  1\n",
      "Average number of tags per picture:  10.025066666666667\n",
      "Max number of pictures per tag:  17846\n",
      "Min number of pictures per tag:  99\n",
      "Average number of pictures per tag:  4101.163636363636\n",
      "Min score of horizontal pictures:  0\n",
      "Avg score of horizontal pictures:  1.484344\n",
      "Max score of horizontal pictures:  9\n",
      "Min intersection of vertical pictures:  0\n",
      "Avg intersection of vertical pictures:  1.514372\n",
      "Max intersection of vertical pictures:  17\n",
      "Min score of pairs of vertical pictures:  0\n",
      "Avg score of pairs of vertical pictures:  4.8771\n",
      "Max score of pairs of vertical pictures:  15\n",
      "fraction of samples >= 1/3 max:  0.531588\n"
     ]
    }
   ],
   "source": [
    "print_info(path_d)"
   ]
  },
  {
   "cell_type": "code",
   "execution_count": 9,
   "metadata": {
    "pycharm": {
     "is_executing": false
    }
   },
   "outputs": [
    {
     "name": "stdout",
     "output_type": "stream",
     "text": [
      "Number of Pictures:  80000\n",
      "Number of horizontal Pictures:  0\n",
      "Number of vertical Pictures:  80000\n",
      "Number of unique tags:  500\n",
      "Max number of tags per picture:  29\n",
      "Min number of tags per picture:  8\n",
      "Average number of tags per picture:  19.0997625\n",
      "Max number of pictures per tag:  3209\n",
      "Min number of pictures per tag:  2907\n",
      "Average number of pictures per tag:  3055.962\n",
      "Min intersection of vertical pictures:  0\n",
      "Avg intersection of vertical pictures:  0.730071\n",
      "Max intersection of vertical pictures:  28\n",
      "Min score of pairs of vertical pictures:  0\n",
      "Avg score of pairs of vertical pictures:  2.808369\n",
      "Max score of pairs of vertical pictures:  23\n",
      "fraction of samples >= 1/3 max:  0.011083\n"
     ]
    }
   ],
   "source": [
    "print_info(path_e)"
   ]
  },
  {
   "cell_type": "code",
   "execution_count": null,
   "metadata": {
    "pycharm": {
     "is_executing": false
    }
   },
   "outputs": [],
   "source": []
  },
  {
   "cell_type": "code",
   "execution_count": null,
   "metadata": {},
   "outputs": [],
   "source": []
  }
 ],
 "metadata": {
  "kernelspec": {
   "display_name": "Python 3",
   "language": "python",
   "name": "python3"
  },
  "language_info": {
   "codemirror_mode": {
    "name": "ipython",
    "version": 3
   },
   "file_extension": ".py",
   "mimetype": "text/x-python",
   "name": "python",
   "nbconvert_exporter": "python",
   "pygments_lexer": "ipython3",
   "version": "3.7.4"
  },
  "pycharm": {
   "stem_cell": {
    "cell_type": "raw",
    "metadata": {
     "collapsed": false
    },
    "source": []
   }
  }
 },
 "nbformat": 4,
 "nbformat_minor": 4
}
